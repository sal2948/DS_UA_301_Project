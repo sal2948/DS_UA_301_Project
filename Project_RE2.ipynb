{
  "nbformat": 4,
  "nbformat_minor": 0,
  "metadata": {
    "colab": {
      "provenance": [],
      "toc_visible": true,
      "machine_shape": "hm"
    },
    "kernelspec": {
      "name": "python3",
      "display_name": "Python 3"
    },
    "language_info": {
      "name": "python"
    }
  },
  "cells": [
    {
      "cell_type": "markdown",
      "source": [
        "# RAF-DB Dataset"
      ],
      "metadata": {
        "id": "Usang-wN5Uy0"
      }
    },
    {
      "cell_type": "code",
      "source": [
        "import os\n",
        "import cv2\n",
        "import numpy as np\n",
        "import pandas as pd\n",
        "from sklearn.model_selection import train_test_split\n",
        "import kagglehub\n",
        "import matplotlib.pyplot as plt\n",
        "import kagglehub"
      ],
      "metadata": {
        "id": "a2rCoXVotwG1"
      },
      "execution_count": 1,
      "outputs": []
    },
    {
      "cell_type": "code",
      "source": [
        "# Download two datasets\n",
        "path_raf = kagglehub.dataset_download(\"shuvoalok/raf-db-dataset\")\n",
        "print(\"RAF‑DB dataset path:\", path_raf)\n",
        "\n",
        "path_fer = kagglehub.dataset_download(\"msambare/fer2013\")\n",
        "print(\"FER‑2013 dataset path:\", path_fer)"
      ],
      "metadata": {
        "colab": {
          "base_uri": "https://localhost:8080/"
        },
        "id": "yLMOpH2rtz1s",
        "outputId": "653b4e19-0ec4-43f3-9f45-35707fce1bfe"
      },
      "execution_count": 2,
      "outputs": [
        {
          "output_type": "stream",
          "name": "stdout",
          "text": [
            "Downloading from https://www.kaggle.com/api/v1/datasets/download/shuvoalok/raf-db-dataset?dataset_version_number=2...\n"
          ]
        },
        {
          "output_type": "stream",
          "name": "stderr",
          "text": [
            "100%|██████████| 37.7M/37.7M [00:02<00:00, 17.8MB/s]"
          ]
        },
        {
          "output_type": "stream",
          "name": "stdout",
          "text": [
            "Extracting files...\n"
          ]
        },
        {
          "output_type": "stream",
          "name": "stderr",
          "text": [
            "\n"
          ]
        },
        {
          "output_type": "stream",
          "name": "stdout",
          "text": [
            "RAF‑DB dataset path: /root/.cache/kagglehub/datasets/shuvoalok/raf-db-dataset/versions/2\n",
            "Downloading from https://www.kaggle.com/api/v1/datasets/download/msambare/fer2013?dataset_version_number=1...\n"
          ]
        },
        {
          "output_type": "stream",
          "name": "stderr",
          "text": [
            "100%|██████████| 60.3M/60.3M [00:02<00:00, 22.0MB/s]"
          ]
        },
        {
          "output_type": "stream",
          "name": "stdout",
          "text": [
            "Extracting files...\n"
          ]
        },
        {
          "output_type": "stream",
          "name": "stderr",
          "text": [
            "\n"
          ]
        },
        {
          "output_type": "stream",
          "name": "stdout",
          "text": [
            "FER‑2013 dataset path: /root/.cache/kagglehub/datasets/msambare/fer2013/versions/1\n"
          ]
        }
      ]
    },
    {
      "cell_type": "code",
      "source": [
        "dataset_path_raf = '/root/.cache/kagglehub/datasets/shuvoalok/raf-db-dataset/versions/2/'\n",
        "\n",
        "train_labels_csv_raf = os.path.join(dataset_path_raf, 'train_labels.csv')\n",
        "test_labels_csv_raf = os.path.join(dataset_path_raf, 'test_labels.csv')\n",
        "\n",
        "images_set_raf = os.path.join(dataset_path_raf, 'DATASET')\n",
        "\n",
        "images_train_set_raf = os.path.join(images_set_raf, 'train')\n",
        "images_test_set_raf = os.path.join(images_set_raf, 'test')"
      ],
      "metadata": {
        "id": "E_43xsZUuNp6"
      },
      "execution_count": 3,
      "outputs": []
    },
    {
      "cell_type": "code",
      "source": [
        "# RAF labels\n",
        "# 1 = Surprise\n",
        "# 2 = Fear\n",
        "# 3 = Disgust\n",
        "# 4 = Happy\n",
        "# 5 = Sad\n",
        "# 6 = Angry\n",
        "# 7 = Neutral\n",
        "\n",
        "# Choose 100x100 for both target datasets\n",
        "target_size = (100, 100)\n",
        "\n",
        "# Translate RAF labels to match FER's style\n",
        "raf_to_fer = {\n",
        "  '1': '5',   # Surprise\n",
        "  '2': '2',   # Fear\n",
        "  '3': '1',   # Disgust\n",
        "  '4': '3',   # Happy\n",
        "  '5': '4',   # Sad\n",
        "  '6': '0',   # Angry\n",
        "  '7': '6'    # Neutral\n",
        "}"
      ],
      "metadata": {
        "id": "z6iPG7I5xQz8"
      },
      "execution_count": 14,
      "outputs": []
    },
    {
      "cell_type": "code",
      "source": [
        "# Load RAF training labels CSV\n",
        "train_labels_df_raf = pd.read_csv(train_labels_csv_raf)\n",
        "\n",
        "# Load RAF training images\n",
        "raf_train_images = []\n",
        "raf_train_labels = []\n",
        "\n",
        "for idx, row in train_labels_df_raf.iterrows():\n",
        "  img_filename = row['image']\n",
        "  original_label = str(row['label'])\n",
        "\n",
        "  # Translate label\n",
        "  if original_label not in raf_to_fer:\n",
        "    print(f\"CAnnot find RAF label: {original_label}\")\n",
        "    continue\n",
        "  mapped_label = raf_to_fer[original_label]\n",
        "\n",
        "  img_path = os.path.join(images_train_set_raf, original_label, img_filename)\n",
        "  img = cv2.imread(img_path)\n",
        "\n",
        "  # Resize and normalize image\n",
        "  img = cv2.resize(img, target_size)\n",
        "  img = img.astype('float32') / 255.0\n",
        "\n",
        "  raf_train_images.append(img)\n",
        "  raf_train_labels.append(mapped_label)\n",
        "\n",
        "X_raf_train = np.array(raf_train_images)\n",
        "y_raf_train = np.array(raf_train_labels)\n",
        "print(\"RAF‑DB training images shape:\", X_raf_train.shape)"
      ],
      "metadata": {
        "colab": {
          "base_uri": "https://localhost:8080/"
        },
        "id": "lJtSCIaEuN2K",
        "outputId": "5e4264a9-3330-4c73-beac-6e875de6676d"
      },
      "execution_count": 16,
      "outputs": [
        {
          "output_type": "stream",
          "name": "stdout",
          "text": [
            "RAF‑DB training images shape: (12271, 100, 100, 3)\n"
          ]
        }
      ]
    },
    {
      "cell_type": "code",
      "source": [
        "raf_test_images = []\n",
        "raf_test_labels = []\n",
        "\n",
        "test_labels_df_raf = pd.read_csv(test_labels_csv_raf)\n",
        "for idx, row in test_labels_df_raf.iterrows():\n",
        "  img_filename = row['image']\n",
        "  original_label = str(row['label'])\n",
        "  if original_label not in raf_to_fer:\n",
        "    print(f\"CAnnot find RAF label: {original_label}\")\n",
        "    continue\n",
        "  mapped_label = raf_to_fer[original_label]\n",
        "\n",
        "  img_path = os.path.join(images_test_set_raf, original_label, img_filename)\n",
        "  img = cv2.imread(img_path)\n",
        "\n",
        "  img = cv2.resize(img, target_size)\n",
        "  img = img.astype('float32') / 255.0\n",
        "\n",
        "  raf_test_images.append(img)\n",
        "  raf_test_labels.append(mapped_label)\n",
        "\n",
        "X_raf_test = np.array(raf_test_images)\n",
        "y_raf_test = np.array(raf_test_labels)\n",
        "print(\"RAF‑DB test images shape:\", X_raf_test.shape)\n",
        "\n",
        "# Combine training and test sets of RAF\n",
        "X_raf = np.concatenate((X_raf_train, X_raf_test), axis=0)\n",
        "y_raf = np.concatenate((y_raf_train, y_raf_test), axis=0)\n",
        "print(\"Combined RAF‑DB images shape:\", X_raf.shape)"
      ],
      "metadata": {
        "colab": {
          "base_uri": "https://localhost:8080/"
        },
        "id": "cG73ScF7zIZi",
        "outputId": "4115ed3d-5766-4eac-f84d-21b0c93c140c"
      },
      "execution_count": 21,
      "outputs": [
        {
          "output_type": "stream",
          "name": "stdout",
          "text": [
            "RAF‑DB test images shape: (3068, 100, 100, 3)\n",
            "Combined RAF‑DB images shape: (15339, 100, 100, 3)\n"
          ]
        }
      ]
    },
    {
      "cell_type": "markdown",
      "source": [
        "# FER-2013 Dataset"
      ],
      "metadata": {
        "id": "Qctkk1gO5PMH"
      }
    },
    {
      "cell_type": "code",
      "source": [
        "dataset_path_fer = '/root/.cache/kagglehub/datasets/msambare/fer2013/versions/1'\n",
        "\n",
        "images_train_set_fer = os.path.join(dataset_path_fer, 'train')\n",
        "images_test_set_fer = os.path.join(dataset_path_fer, 'test')"
      ],
      "metadata": {
        "id": "Ne22XO8QzXcO"
      },
      "execution_count": 19,
      "outputs": []
    },
    {
      "cell_type": "code",
      "source": [
        "# FER Labels\n",
        "# 0 = Angry\n",
        "# 1 = Disgust\n",
        "# 2 = Fear\n",
        "# 3 = Happy\n",
        "# 4 = Sad\n",
        "# 5 = Surprise\n",
        "# 6 = Neutral\n",
        "\n",
        "CATEGORIES_FER = ['angry', 'disgust', 'fear', 'happy', 'sad', 'surprise', 'neutral']\n",
        "\n",
        "# Map folder names to unified labels:\n",
        "fer_mapping = {\n",
        "  'angry': '0',\n",
        "  'disgust': '1',\n",
        "  'fear': '2',\n",
        "  'happy': '3',\n",
        "  'sad': '4',\n",
        "  'surprise': '5',\n",
        "  'neutral': '6'\n",
        "}\n",
        "\n",
        "def resize_image(img, target_size):\n",
        "  return cv2.resize(img, target_size)"
      ],
      "metadata": {
        "id": "mdwTWKESzd4c"
      },
      "execution_count": 22,
      "outputs": []
    },
    {
      "cell_type": "code",
      "source": [
        "fer_train_images = []\n",
        "fer_train_labels = []\n",
        "\n",
        "for category in CATEGORIES_FER:\n",
        "  folder = os.path.join(images_train_set_fer, category)\n",
        "\n",
        "  for img_file in os.listdir(folder):\n",
        "    img_path = os.path.join(folder, img_file)\n",
        "    img = cv2.imread(img_path)\n",
        "    if img is None:\n",
        "      print(f\"Failed to load image: {img_path}\")\n",
        "      continue\n",
        "\n",
        "    # FER images are originally 48x48; resize to 100x100 to be consistent with RAF\n",
        "    img = resize_image(img, target_size)\n",
        "    img = img.astype('float32') / 255.0\n",
        "    fer_train_images.append(img)\n",
        "    fer_train_labels.append(category)\n",
        "\n",
        "X_fer_train = np.array(fer_train_images)\n",
        "y_fer_train = np.array(fer_train_labels)\n",
        "print(\"FER‑2013 training images shape:\", X_fer_train.shape)"
      ],
      "metadata": {
        "colab": {
          "base_uri": "https://localhost:8080/"
        },
        "id": "UYSFE28kzey6",
        "outputId": "b725e2eb-298d-46c2-c973-b610af4c2945"
      },
      "execution_count": 27,
      "outputs": [
        {
          "output_type": "stream",
          "name": "stdout",
          "text": [
            "FER‑2013 training images shape: (28709, 100, 100, 3)\n"
          ]
        }
      ]
    },
    {
      "cell_type": "code",
      "source": [
        "fer_test_images = []\n",
        "fer_test_labels = []\n",
        "\n",
        "for category in CATEGORIES_FER:\n",
        "  folder = os.path.join(images_test_set_fer, category)\n",
        "\n",
        "  for img_file in os.listdir(folder):\n",
        "    img_path = os.path.join(folder, img_file)\n",
        "    img = cv2.imread(img_path)\n",
        "    if img is None:\n",
        "      print(f\"Failed to load image: {img_path}\")\n",
        "      continue\n",
        "\n",
        "    img = resize_image(img, target_size)\n",
        "    img = img.astype('float32') / 255.0\n",
        "    fer_test_images.append(img)\n",
        "    fer_test_labels.append(category)\n",
        "\n",
        "X_fer_test = np.array(fer_test_images)\n",
        "y_fer_test = np.array(fer_test_labels)\n",
        "print(\"FER‑2013 test images shape:\", X_fer_test.shape)\n",
        "\n",
        "# Combine FER training and test sets\n",
        "X_fer = np.concatenate((X_fer_train, X_fer_test), axis=0)\n",
        "y_fer = np.concatenate((y_fer_train, y_fer_test), axis=0)\n",
        "print(\"Combined FER‑2013 images shape:\", X_fer.shape)"
      ],
      "metadata": {
        "colab": {
          "base_uri": "https://localhost:8080/"
        },
        "id": "weQHjIq3zxr4",
        "outputId": "68256f67-9889-4520-84e4-cca03a34deee"
      },
      "execution_count": 28,
      "outputs": [
        {
          "output_type": "stream",
          "name": "stdout",
          "text": [
            "FER‑2013 test images shape: (7178, 100, 100, 3)\n",
            "Combined FER‑2013 images shape: (35887, 100, 100, 3)\n"
          ]
        }
      ]
    },
    {
      "cell_type": "code",
      "source": [
        "X_combined_total = np.concatenate((X_raf, X_fer), axis=0)\n",
        "y_combined_total = np.concatenate((y_raf, y_fer), axis=0)\n",
        "print(\"\\nTotal combined images shape:\", X_combined_total.shape)\n",
        "print(\"Total combined labels shape:\", y_combined_total.shape)"
      ],
      "metadata": {
        "colab": {
          "base_uri": "https://localhost:8080/"
        },
        "id": "gojWB6Qyzzw8",
        "outputId": "7ab07ea5-33ef-420f-bf3e-117c9b16c0be"
      },
      "execution_count": 25,
      "outputs": [
        {
          "output_type": "stream",
          "name": "stdout",
          "text": [
            "\n",
            "Total combined images shape: (51226, 100, 100, 3)\n",
            "Total combined labels shape: (51226,)\n"
          ]
        }
      ]
    },
    {
      "cell_type": "code",
      "source": [
        "X_final_train, X_final_test, y_final_train, y_final_test = train_test_split(\n",
        "  X_combined_total, y_combined_total, test_size=0.2, random_state=42, shuffle=True, stratify=y_combined_total\n",
        ")\n",
        "\n",
        "print(\"\\nFinal Training set shape:\", X_final_train.shape, y_final_train.shape)\n",
        "print(\"Final Test set shape:\", X_final_test.shape, y_final_test.shape)"
      ],
      "metadata": {
        "colab": {
          "base_uri": "https://localhost:8080/"
        },
        "id": "NAzdExdrz0tp",
        "outputId": "6f54c57b-2052-4cdd-d220-6ec23a553bb6"
      },
      "execution_count": 26,
      "outputs": [
        {
          "output_type": "stream",
          "name": "stdout",
          "text": [
            "\n",
            "Final Training set shape: (40980, 100, 100, 3) (40980,)\n",
            "Final Test set shape: (10246, 100, 100, 3) (10246,)\n"
          ]
        }
      ]
    },
    {
      "cell_type": "code",
      "source": [],
      "metadata": {
        "id": "6hdS-usgKvwC"
      },
      "execution_count": null,
      "outputs": []
    }
  ]
}